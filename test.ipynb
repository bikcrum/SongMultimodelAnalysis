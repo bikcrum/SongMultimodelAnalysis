{
 "cells": [
  {
   "cell_type": "code",
   "execution_count": 61,
   "outputs": [],
   "source": [
    "import matplotlib.pyplot as plt\n",
    "import pandas as pd"
   ],
   "metadata": {
    "collapsed": false,
    "pycharm": {
     "name": "#%%\n"
    }
   }
  },
  {
   "cell_type": "code",
   "execution_count": 89,
   "outputs": [],
   "source": [
    "dataset = pd.read_csv('dataset/dataset.csv')\n",
    "lyrics = pd.read_csv('dataset/lyrics.csv')\n",
    "previews = pd.read_csv('dataset/previews.csv')"
   ],
   "metadata": {
    "collapsed": false,
    "pycharm": {
     "name": "#%%\n"
    }
   }
  },
  {
   "cell_type": "code",
   "execution_count": 90,
   "outputs": [
    {
     "data": {
      "text/plain": "       dzr_sng_id  dzr_sng_id_old          MSD_sng_id        MSD_track_id  \\\n0          215475          814317  SOHGLRR12A8C139D15  TRIWEQL128F4277E16   \n1          216237          216237  SOSMRCK12AB0182619  TRWKHHA128F932CE8D   \n2          364962          364962  SOITJIQ12A8C13A291  TRPFENS128F92DF6C6   \n3          365067          365137  SOLMKTS12A8AE46C27  TRDHBPQ128F425EA1E   \n4          365070          365070  SOLBFZJ12A8C1445B8  TRBQSQG12903CBD7D3   \n...           ...             ...                 ...                 ...   \n14853  1741134867          983850  SOEOMEF12A679D8AE4  TRMIMZV128E0793AC5   \n14854  1743726797         3117744  SOCMTSR12A67AD7416  TRIXMMD128F14A3AC4   \n14855  1748785967         6732040  SODQYZG12AB017CA3F  TRNMYSN128F9300B5D   \n14856  1748786397         1609782  SOXLIIZ12B0B807997  TRMIBNM128F429E5CB   \n14857  1748786767         1609793  SOUHRWF12B0B807988  TRIYRUE128F429E5D0   \n\n        valence   arousal  artist_name          track_name   duration  \n0     -0.780962 -0.789480  Sarah Slean                Mary  30.720000  \n1     -1.176640 -0.314720        CALLA           Strangler  30.713062  \n2      1.541257  1.704165      Boney M            Rasputin  30.720000  \n3     -0.569752  0.031901  Leona Lewis       Bleeding Love  30.720000  \n4     -0.981530  0.620973  Leona Lewis      Better in time  30.720000  \n...         ...       ...          ...                 ...        ...  \n14853 -1.040199 -0.065816   The Police  Bring On The Night  30.720000  \n14854  0.957291  0.390507         K-OS         born to Run  29.988563  \n14855  0.815393  0.662457   Aesop Rock    Babies With Guns  29.988563  \n14856  0.373325 -0.923151   Aesop Rock            Daylight  29.988563  \n14857  0.815393  0.662457   Aesop Rock          No rEgrets  29.988563  \n\n[14858 rows x 9 columns]",
      "text/html": "<div>\n<style scoped>\n    .dataframe tbody tr th:only-of-type {\n        vertical-align: middle;\n    }\n\n    .dataframe tbody tr th {\n        vertical-align: top;\n    }\n\n    .dataframe thead th {\n        text-align: right;\n    }\n</style>\n<table border=\"1\" class=\"dataframe\">\n  <thead>\n    <tr style=\"text-align: right;\">\n      <th></th>\n      <th>dzr_sng_id</th>\n      <th>dzr_sng_id_old</th>\n      <th>MSD_sng_id</th>\n      <th>MSD_track_id</th>\n      <th>valence</th>\n      <th>arousal</th>\n      <th>artist_name</th>\n      <th>track_name</th>\n      <th>duration</th>\n    </tr>\n  </thead>\n  <tbody>\n    <tr>\n      <th>0</th>\n      <td>215475</td>\n      <td>814317</td>\n      <td>SOHGLRR12A8C139D15</td>\n      <td>TRIWEQL128F4277E16</td>\n      <td>-0.780962</td>\n      <td>-0.789480</td>\n      <td>Sarah Slean</td>\n      <td>Mary</td>\n      <td>30.720000</td>\n    </tr>\n    <tr>\n      <th>1</th>\n      <td>216237</td>\n      <td>216237</td>\n      <td>SOSMRCK12AB0182619</td>\n      <td>TRWKHHA128F932CE8D</td>\n      <td>-1.176640</td>\n      <td>-0.314720</td>\n      <td>CALLA</td>\n      <td>Strangler</td>\n      <td>30.713062</td>\n    </tr>\n    <tr>\n      <th>2</th>\n      <td>364962</td>\n      <td>364962</td>\n      <td>SOITJIQ12A8C13A291</td>\n      <td>TRPFENS128F92DF6C6</td>\n      <td>1.541257</td>\n      <td>1.704165</td>\n      <td>Boney M</td>\n      <td>Rasputin</td>\n      <td>30.720000</td>\n    </tr>\n    <tr>\n      <th>3</th>\n      <td>365067</td>\n      <td>365137</td>\n      <td>SOLMKTS12A8AE46C27</td>\n      <td>TRDHBPQ128F425EA1E</td>\n      <td>-0.569752</td>\n      <td>0.031901</td>\n      <td>Leona Lewis</td>\n      <td>Bleeding Love</td>\n      <td>30.720000</td>\n    </tr>\n    <tr>\n      <th>4</th>\n      <td>365070</td>\n      <td>365070</td>\n      <td>SOLBFZJ12A8C1445B8</td>\n      <td>TRBQSQG12903CBD7D3</td>\n      <td>-0.981530</td>\n      <td>0.620973</td>\n      <td>Leona Lewis</td>\n      <td>Better in time</td>\n      <td>30.720000</td>\n    </tr>\n    <tr>\n      <th>...</th>\n      <td>...</td>\n      <td>...</td>\n      <td>...</td>\n      <td>...</td>\n      <td>...</td>\n      <td>...</td>\n      <td>...</td>\n      <td>...</td>\n      <td>...</td>\n    </tr>\n    <tr>\n      <th>14853</th>\n      <td>1741134867</td>\n      <td>983850</td>\n      <td>SOEOMEF12A679D8AE4</td>\n      <td>TRMIMZV128E0793AC5</td>\n      <td>-1.040199</td>\n      <td>-0.065816</td>\n      <td>The Police</td>\n      <td>Bring On The Night</td>\n      <td>30.720000</td>\n    </tr>\n    <tr>\n      <th>14854</th>\n      <td>1743726797</td>\n      <td>3117744</td>\n      <td>SOCMTSR12A67AD7416</td>\n      <td>TRIXMMD128F14A3AC4</td>\n      <td>0.957291</td>\n      <td>0.390507</td>\n      <td>K-OS</td>\n      <td>born to Run</td>\n      <td>29.988563</td>\n    </tr>\n    <tr>\n      <th>14855</th>\n      <td>1748785967</td>\n      <td>6732040</td>\n      <td>SODQYZG12AB017CA3F</td>\n      <td>TRNMYSN128F9300B5D</td>\n      <td>0.815393</td>\n      <td>0.662457</td>\n      <td>Aesop Rock</td>\n      <td>Babies With Guns</td>\n      <td>29.988563</td>\n    </tr>\n    <tr>\n      <th>14856</th>\n      <td>1748786397</td>\n      <td>1609782</td>\n      <td>SOXLIIZ12B0B807997</td>\n      <td>TRMIBNM128F429E5CB</td>\n      <td>0.373325</td>\n      <td>-0.923151</td>\n      <td>Aesop Rock</td>\n      <td>Daylight</td>\n      <td>29.988563</td>\n    </tr>\n    <tr>\n      <th>14857</th>\n      <td>1748786767</td>\n      <td>1609793</td>\n      <td>SOUHRWF12B0B807988</td>\n      <td>TRIYRUE128F429E5D0</td>\n      <td>0.815393</td>\n      <td>0.662457</td>\n      <td>Aesop Rock</td>\n      <td>No rEgrets</td>\n      <td>29.988563</td>\n    </tr>\n  </tbody>\n</table>\n<p>14858 rows × 9 columns</p>\n</div>"
     },
     "execution_count": 90,
     "metadata": {},
     "output_type": "execute_result"
    }
   ],
   "source": [
    "dataset"
   ],
   "metadata": {
    "collapsed": false,
    "pycharm": {
     "name": "#%%\n"
    }
   }
  },
  {
   "cell_type": "code",
   "execution_count": 91,
   "outputs": [
    {
     "data": {
      "text/plain": "       dzr_sng_id                                            preview\n0          215475  https://cdns-preview-7.dzcdn.net/stream/c-75f3...\n1          216237  https://cdns-preview-9.dzcdn.net/stream/c-900f...\n2          364962  https://cdns-preview-d.dzcdn.net/stream/c-de1d...\n3          365067  https://cdns-preview-e.dzcdn.net/stream/c-ef72...\n4          365070  https://cdns-preview-1.dzcdn.net/stream/c-1930...\n...           ...                                                ...\n14853  1741134867  https://cdns-preview-8.dzcdn.net/stream/c-8236...\n14854  1743726797  https://cdns-preview-9.dzcdn.net/stream/c-97bb...\n14855  1748785967  https://cdns-preview-7.dzcdn.net/stream/c-7148...\n14856  1748786397  https://cdns-preview-2.dzcdn.net/stream/c-2927...\n14857  1748786767  https://cdns-preview-3.dzcdn.net/stream/c-3773...\n\n[14858 rows x 2 columns]",
      "text/html": "<div>\n<style scoped>\n    .dataframe tbody tr th:only-of-type {\n        vertical-align: middle;\n    }\n\n    .dataframe tbody tr th {\n        vertical-align: top;\n    }\n\n    .dataframe thead th {\n        text-align: right;\n    }\n</style>\n<table border=\"1\" class=\"dataframe\">\n  <thead>\n    <tr style=\"text-align: right;\">\n      <th></th>\n      <th>dzr_sng_id</th>\n      <th>preview</th>\n    </tr>\n  </thead>\n  <tbody>\n    <tr>\n      <th>0</th>\n      <td>215475</td>\n      <td>https://cdns-preview-7.dzcdn.net/stream/c-75f3...</td>\n    </tr>\n    <tr>\n      <th>1</th>\n      <td>216237</td>\n      <td>https://cdns-preview-9.dzcdn.net/stream/c-900f...</td>\n    </tr>\n    <tr>\n      <th>2</th>\n      <td>364962</td>\n      <td>https://cdns-preview-d.dzcdn.net/stream/c-de1d...</td>\n    </tr>\n    <tr>\n      <th>3</th>\n      <td>365067</td>\n      <td>https://cdns-preview-e.dzcdn.net/stream/c-ef72...</td>\n    </tr>\n    <tr>\n      <th>4</th>\n      <td>365070</td>\n      <td>https://cdns-preview-1.dzcdn.net/stream/c-1930...</td>\n    </tr>\n    <tr>\n      <th>...</th>\n      <td>...</td>\n      <td>...</td>\n    </tr>\n    <tr>\n      <th>14853</th>\n      <td>1741134867</td>\n      <td>https://cdns-preview-8.dzcdn.net/stream/c-8236...</td>\n    </tr>\n    <tr>\n      <th>14854</th>\n      <td>1743726797</td>\n      <td>https://cdns-preview-9.dzcdn.net/stream/c-97bb...</td>\n    </tr>\n    <tr>\n      <th>14855</th>\n      <td>1748785967</td>\n      <td>https://cdns-preview-7.dzcdn.net/stream/c-7148...</td>\n    </tr>\n    <tr>\n      <th>14856</th>\n      <td>1748786397</td>\n      <td>https://cdns-preview-2.dzcdn.net/stream/c-2927...</td>\n    </tr>\n    <tr>\n      <th>14857</th>\n      <td>1748786767</td>\n      <td>https://cdns-preview-3.dzcdn.net/stream/c-3773...</td>\n    </tr>\n  </tbody>\n</table>\n<p>14858 rows × 2 columns</p>\n</div>"
     },
     "execution_count": 91,
     "metadata": {},
     "output_type": "execute_result"
    }
   ],
   "source": [
    "previews"
   ],
   "metadata": {
    "collapsed": false,
    "pycharm": {
     "name": "#%%\n"
    }
   }
  },
  {
   "cell_type": "code",
   "execution_count": 92,
   "outputs": [
    {
     "data": {
      "text/plain": "       dzr_sng_id                                             lyrics\n0          215475  She's looking out and out to a galaxy \\r\\nA fa...\n1          216237  Something's gotten into your head \\r\\nSay what...\n2          364962  There lived a certain man in Russia long ago\\r...\n3          365067  Closed off from love, I didn't need the pain\\r...\n4          365070  Ooh, ooh\\r\\n\\r\\nIt's been the longest winter w...\n...           ...                                                ...\n14853  1741134867  The afternoon has gently passed me by\\r\\nThe e...\n14854  1743726797  My heart, creep show, some old thing on the ra...\n14855  1748785967   \\n\\nRadio check check\\nVideo check check\\nThi...\n14856  1748786397  Yoput one up shackle me, not clean logic procr...\n14857  1748786767  Lucy was 7 and wore a head of blue barettes\\nC...\n\n[14858 rows x 2 columns]",
      "text/html": "<div>\n<style scoped>\n    .dataframe tbody tr th:only-of-type {\n        vertical-align: middle;\n    }\n\n    .dataframe tbody tr th {\n        vertical-align: top;\n    }\n\n    .dataframe thead th {\n        text-align: right;\n    }\n</style>\n<table border=\"1\" class=\"dataframe\">\n  <thead>\n    <tr style=\"text-align: right;\">\n      <th></th>\n      <th>dzr_sng_id</th>\n      <th>lyrics</th>\n    </tr>\n  </thead>\n  <tbody>\n    <tr>\n      <th>0</th>\n      <td>215475</td>\n      <td>She's looking out and out to a galaxy \\r\\nA fa...</td>\n    </tr>\n    <tr>\n      <th>1</th>\n      <td>216237</td>\n      <td>Something's gotten into your head \\r\\nSay what...</td>\n    </tr>\n    <tr>\n      <th>2</th>\n      <td>364962</td>\n      <td>There lived a certain man in Russia long ago\\r...</td>\n    </tr>\n    <tr>\n      <th>3</th>\n      <td>365067</td>\n      <td>Closed off from love, I didn't need the pain\\r...</td>\n    </tr>\n    <tr>\n      <th>4</th>\n      <td>365070</td>\n      <td>Ooh, ooh\\r\\n\\r\\nIt's been the longest winter w...</td>\n    </tr>\n    <tr>\n      <th>...</th>\n      <td>...</td>\n      <td>...</td>\n    </tr>\n    <tr>\n      <th>14853</th>\n      <td>1741134867</td>\n      <td>The afternoon has gently passed me by\\r\\nThe e...</td>\n    </tr>\n    <tr>\n      <th>14854</th>\n      <td>1743726797</td>\n      <td>My heart, creep show, some old thing on the ra...</td>\n    </tr>\n    <tr>\n      <th>14855</th>\n      <td>1748785967</td>\n      <td>\\n\\nRadio check check\\nVideo check check\\nThi...</td>\n    </tr>\n    <tr>\n      <th>14856</th>\n      <td>1748786397</td>\n      <td>Yoput one up shackle me, not clean logic procr...</td>\n    </tr>\n    <tr>\n      <th>14857</th>\n      <td>1748786767</td>\n      <td>Lucy was 7 and wore a head of blue barettes\\nC...</td>\n    </tr>\n  </tbody>\n</table>\n<p>14858 rows × 2 columns</p>\n</div>"
     },
     "execution_count": 92,
     "metadata": {},
     "output_type": "execute_result"
    }
   ],
   "source": [
    "lyrics"
   ],
   "metadata": {
    "collapsed": false,
    "pycharm": {
     "name": "#%%\n"
    }
   }
  },
  {
   "cell_type": "code",
   "execution_count": 93,
   "outputs": [
    {
     "data": {
      "text/plain": "4279"
     },
     "execution_count": 93,
     "metadata": {},
     "output_type": "execute_result"
    }
   ],
   "source": [
    "((dataset.arousal < 0) & (dataset.valence < 0)).sum()"
   ],
   "metadata": {
    "collapsed": false,
    "pycharm": {
     "name": "#%%\n"
    }
   }
  },
  {
   "cell_type": "code",
   "execution_count": 94,
   "outputs": [
    {
     "data": {
      "text/plain": "2856"
     },
     "execution_count": 94,
     "metadata": {},
     "output_type": "execute_result"
    }
   ],
   "source": [
    "((dataset.arousal > 0) & (dataset.valence < 0)).sum()"
   ],
   "metadata": {
    "collapsed": false,
    "pycharm": {
     "name": "#%%\n"
    }
   }
  },
  {
   "cell_type": "code",
   "execution_count": 95,
   "outputs": [
    {
     "data": {
      "text/plain": "2841"
     },
     "execution_count": 95,
     "metadata": {},
     "output_type": "execute_result"
    }
   ],
   "source": [
    "((dataset.arousal < 0) & (dataset.valence > 0)).sum()"
   ],
   "metadata": {
    "collapsed": false,
    "pycharm": {
     "name": "#%%\n"
    }
   }
  },
  {
   "cell_type": "code",
   "execution_count": 96,
   "outputs": [
    {
     "data": {
      "text/plain": "4882"
     },
     "execution_count": 96,
     "metadata": {},
     "output_type": "execute_result"
    }
   ],
   "source": [
    "((dataset.arousal > 0) & (dataset.valence > 0)).sum()"
   ],
   "metadata": {
    "collapsed": false,
    "pycharm": {
     "name": "#%%\n"
    }
   }
  },
  {
   "cell_type": "code",
   "execution_count": 97,
   "outputs": [
    {
     "data": {
      "text/plain": "(array([ 305.,  215., 1885., 2377., 3082., 2355., 2291., 1846.,  436.,\n          66.]),\n array([-2.33360415, -1.82473466, -1.31586517, -0.80699567, -0.29812618,\n         0.21074331,  0.71961281,  1.2284823 ,  1.73735179,  2.24622129,\n         2.75509078]),\n <BarContainer object of 10 artists>)"
     },
     "execution_count": 97,
     "metadata": {},
     "output_type": "execute_result"
    },
    {
     "data": {
      "text/plain": "<Figure size 432x288 with 1 Axes>",
      "image/png": "[encoded data removed]"
     },
     "metadata": {
      "needs_background": "light"
     },
     "output_type": "display_data"
    }
   ],
   "source": [
    "plt.hist(dataset.arousal)"
   ],
   "metadata": {
    "collapsed": false,
    "pycharm": {
     "name": "#%%\n"
    }
   }
  },
  {
   "cell_type": "code",
   "execution_count": 98,
   "outputs": [
    {
     "data": {
      "text/plain": "(array([ 853., 1116., 1890., 1030., 1659.,  846., 1810., 1078., 2582.,\n        1994.]),\n array([-2.1480972 , -1.77861604, -1.40913487, -1.03965371, -0.67017254,\n        -0.30069138,  0.06878979,  0.43827095,  0.80775212,  1.17723328,\n         1.54671445]),\n <BarContainer object of 10 artists>)"
     },
     "execution_count": 98,
     "metadata": {},
     "output_type": "execute_result"
    },
    {
     "data": {
      "text/plain": "<Figure size 432x288 with 1 Axes>",
      "image/png": "[encoded data removed]"
     },
     "metadata": {
      "needs_background": "light"
     },
     "output_type": "display_data"
    }
   ],
   "source": [
    "plt.hist(dataset.valence)"
   ],
   "metadata": {
    "collapsed": false,
    "pycharm": {
     "name": "#%%\n"
    }
   }
  },
  {
   "cell_type": "code",
   "execution_count": 100,
   "outputs": [],
   "source": [
    "from mutagen.mp3 import MP3\n",
    "\n",
    "durations = []\n",
    "for i, file in dataset.iterrows():\n",
    "    try:\n",
    "        audio = MP3(\"dataset/previews/mp3/\" + str(file.dzr_sng_id) + '.mp3')\n",
    "        durations.append({'dzr_sng_id':  file.dzr_sng_id, 'duration':audio.info.length})\n",
    "    except Exception as e:\n",
    "        print(e)\n",
    "        durations.append({'dzr_sng_id': file.dzr_sng_id, 'duration':-1})"
   ],
   "metadata": {
    "collapsed": false,
    "pycharm": {
     "name": "#%%\n"
    }
   }
  },
  {
   "cell_type": "code",
   "execution_count": 101,
   "outputs": [],
   "source": [
    "df_duration = pd.DataFrame(durations)"
   ],
   "metadata": {
    "collapsed": false,
    "pycharm": {
     "name": "#%%\n"
    }
   }
  },
  {
   "cell_type": "code",
   "execution_count": 102,
   "outputs": [
    {
     "data": {
      "text/plain": "         dzr_sng_id      duration\ncount  1.485800e+04  14858.000000\nmean   1.835045e+08     30.682282\nstd    3.637017e+08      0.777334\nmin    2.154750e+05     28.995875\n25%    2.518615e+06     30.720000\n50%    1.317714e+07     30.720000\n75%    1.052812e+08     30.720000\nmax    1.748787e+09    122.880000",
      "text/html": "<div>\n<style scoped>\n    .dataframe tbody tr th:only-of-type {\n        vertical-align: middle;\n    }\n\n    .dataframe tbody tr th {\n        vertical-align: top;\n    }\n\n    .dataframe thead th {\n        text-align: right;\n    }\n</style>\n<table border=\"1\" class=\"dataframe\">\n  <thead>\n    <tr style=\"text-align: right;\">\n      <th></th>\n      <th>dzr_sng_id</th>\n      <th>duration</th>\n    </tr>\n  </thead>\n  <tbody>\n    <tr>\n      <th>count</th>\n      <td>1.485800e+04</td>\n      <td>14858.000000</td>\n    </tr>\n    <tr>\n      <th>mean</th>\n      <td>1.835045e+08</td>\n      <td>30.682282</td>\n    </tr>\n    <tr>\n      <th>std</th>\n      <td>3.637017e+08</td>\n      <td>0.777334</td>\n    </tr>\n    <tr>\n      <th>min</th>\n      <td>2.154750e+05</td>\n      <td>28.995875</td>\n    </tr>\n    <tr>\n      <th>25%</th>\n      <td>2.518615e+06</td>\n      <td>30.720000</td>\n    </tr>\n    <tr>\n      <th>50%</th>\n      <td>1.317714e+07</td>\n      <td>30.720000</td>\n    </tr>\n    <tr>\n      <th>75%</th>\n      <td>1.052812e+08</td>\n      <td>30.720000</td>\n    </tr>\n    <tr>\n      <th>max</th>\n      <td>1.748787e+09</td>\n      <td>122.880000</td>\n    </tr>\n  </tbody>\n</table>\n</div>"
     },
     "execution_count": 102,
     "metadata": {},
     "output_type": "execute_result"
    }
   ],
   "source": [
    "df_duration.describe()"
   ],
   "metadata": {
    "collapsed": false,
    "pycharm": {
     "name": "#%%\n"
    }
   }
  },
  {
   "cell_type": "code",
   "execution_count": null,
   "outputs": [],
   "source": [],
   "metadata": {
    "collapsed": false,
    "pycharm": {
     "name": "#%%\n"
    }
   }
  },
  {
   "cell_type": "code",
   "execution_count": 49,
   "outputs": [],
   "source": [
    "dataset = dataset.merge(df_duration, on='dzr_sng_id', how='left')\n",
    "dataset = dataset[dataset.duration > 20]\n",
    "dataset = dataset.reset_index()\n",
    "del dataset['index']\n",
    "dataset.to_csv('dataset/dataset.csv', index=None)"
   ],
   "metadata": {
    "collapsed": false,
    "pycharm": {
     "name": "#%%\n"
    }
   }
  },
  {
   "cell_type": "code",
   "execution_count": 86,
   "outputs": [],
   "source": [
    "lyrics = lyrics[lyrics.dzr_sng_id.isin(dataset.dzr_sng_id)]\n",
    "lyrics = lyrics.reset_index()\n",
    "del lyrics['index']\n",
    "lyrics.to_csv('dataset/lyrics.csv', index=None)"
   ],
   "metadata": {
    "collapsed": false,
    "pycharm": {
     "name": "#%%\n"
    }
   }
  },
  {
   "cell_type": "code",
   "execution_count": 88,
   "outputs": [],
   "source": [
    "previews = previews[previews.dzr_sng_id.isin(dataset.dzr_sng_id)]\n",
    "previews = previews.reset_index()\n",
    "del previews['index']\n",
    "previews.to_csv('dataset/previews.csv', index=None)"
   ],
   "metadata": {
    "collapsed": false,
    "pycharm": {
     "name": "#%%\n"
    }
   }
  }
 ],
 "metadata": {
  "kernelspec": {
   "display_name": "Python 3",
   "language": "python",
   "name": "python3"
  },
  "language_info": {
   "codemirror_mode": {
    "name": "ipython",
    "version": 2
   },
   "file_extension": ".py",
   "mimetype": "text/x-python",
   "name": "python",
   "nbconvert_exporter": "python",
   "pygments_lexer": "ipython2",
   "version": "2.7.6"
  }
 },
 "nbformat": 4,
 "nbformat_minor": 0
}